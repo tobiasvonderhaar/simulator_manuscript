{
 "cells": [
  {
   "cell_type": "code",
   "execution_count": 2,
   "id": "2012ca78-e5dd-4513-b74b-28d8d5ebaddd",
   "metadata": {},
   "outputs": [],
   "source": [
    "import ribosomesimulator as r\n",
    "from time import process_time_ns\n",
    "import matplotlib.pyplot as plt\n",
    "import numpy as np"
   ]
  },
  {
   "cell_type": "code",
   "execution_count": 262,
   "id": "b54a4fe9-9518-4e17-9d94-55a8a71eb7a7",
   "metadata": {},
   "outputs": [],
   "source": [
    "sim = r.ribosomesimulator()\n",
    "props = sim.getPropensities()\n",
    "\n",
    "##depending on which of the following two lines is used, the model\n",
    "##is run with or without incluson of near-cognate tRNAs.\n",
    "\n",
    "#sim.loadConcentrations('Scer_concentrations_no_nearcognates.csv')\n",
    "sim.loadConcentrations('Scer_concentrations.csv')\n",
    "\n",
    "sim.setCodonForSimulation('CUU')\n",
    "\n",
    "##outcomment the following line to run a simulation without non-cognates\n",
    "\n",
    "sim.setNonCognate(False)\n",
    "\n",
    "decoding_times= []\n",
    "x = 100000\n",
    "cycle_time_ns,decoding_times_s = [],[]\n",
    "for n1 in range(100):\n",
    "    start=process_time_ns()\n",
    "    for n2 in range (x):\n",
    "        sim.run_and_get_times()\n",
    "    cycle_time_ns.append((process_time_ns()-start)/(1000* x))\n",
    "for n in range(x):\n",
    "    decoding_times_s.append(np.sum(sim.run_and_get_times()))"
   ]
  },
  {
   "cell_type": "code",
   "execution_count": 263,
   "id": "170d3881-a40e-4bf8-a87c-7422440047a9",
   "metadata": {},
   "outputs": [
    {
     "data": {
      "image/png": "[encoded data removed]",
      "text/plain": [
       "<Figure size 576x288 with 2 Axes>"
      ]
     },
     "metadata": {
      "needs_background": "light"
     },
     "output_type": "display_data"
    }
   ],
   "source": [
    "fig,ax = plt.subplots(1,2,figsize=(8,4))\n",
    "ax[0].hist(cycle_time_ns[5:-5])\n",
    "ax[0].set_xlabel('Computing time (microseconds)')\n",
    "ax[0].set_ylabel('Frequency')\n",
    "ax[0].set_xlim((5,70))\n",
    "ax[1].hist(np.log(decoding_times_s[5:-5]))\n",
    "ax[1].set_xlabel('Computed decoding time (seconds)')\n",
    "ax[1].set_ylabel('Frequency')\n",
    "ax[1].set_xlim((-5,2))\n",
    "plt.savefig('Computing_time_without_near_noncognates.svg')\n",
    "plt.show()"
   ]
  },
  {
   "cell_type": "code",
   "execution_count": 4,
   "id": "2c2fff8d-1988-4bf2-bd45-423eff740c8d",
   "metadata": {},
   "outputs": [
    {
     "data": {
      "text/plain": [
       "-0.3825113459350932"
      ]
     },
     "execution_count": 4,
     "metadata": {},
     "output_type": "execute_result"
    }
   ],
   "source": [
    "sim = r.ribosomesimulator()\n",
    "sim.loadConcentrations('Scer_concentrations.csv')\n",
    "sim.setCodonForSimulation('CUU')\n",
    "np.log(sim.run_repeatedly_get_average_time(100000))"
   ]
  },
  {
   "cell_type": "code",
   "execution_count": null,
   "id": "96695e89-de21-4760-ac72-f521dc49c263",
   "metadata": {},
   "outputs": [],
   "source": []
  },
  {
   "cell_type": "code",
   "execution_count": null,
   "id": "35925ef9-7f10-49ad-9b50-10dd68d44d4f",
   "metadata": {},
   "outputs": [],
   "source": []
  }
 ],
 "metadata": {
  "kernelspec": {
   "display_name": "Python 3 (ipykernel)",
   "language": "python",
   "name": "python3"
  },
  "language_info": {
   "codemirror_mode": {
    "name": "ipython",
    "version": 3
   },
   "file_extension": ".py",
   "mimetype": "text/x-python",
   "name": "python",
   "nbconvert_exporter": "python",
   "pygments_lexer": "ipython3",
   "version": "3.7.11"
  }
 },
 "nbformat": 4,
 "nbformat_minor": 5
}
