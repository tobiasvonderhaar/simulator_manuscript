{
 "cells": [
  {
   "cell_type": "code",
   "execution_count": 1,
   "id": "dfcb3d28-a91d-4fac-8ec3-b846818da29b",
   "metadata": {},
   "outputs": [],
   "source": [
    "import pandas as pd\n",
    "import numpy as np\n",
    "import matplotlib.pyplot as plt\n",
    "import seaborn as sns\n",
    "from sklearn.decomposition import PCA\n",
    "from sklearn.manifold import TSNE, MDS\n",
    "from sklearn.metrics.pairwise import euclidean_distances\n",
    "from sklearn.preprocessing import StandardScaler\n",
    "from sklearn.cluster import DBSCAN\n",
    "import os"
   ]
  },
  {
   "cell_type": "markdown",
   "id": "6fe4627b-d4be-4382-9bc6-3777690211d5",
   "metadata": {},
   "source": [
    "## Data Assembly"
   ]
  },
  {
   "cell_type": "code",
   "execution_count": 3,
   "id": "256bb775-dc51-4232-999b-4a6f0184a557",
   "metadata": {},
   "outputs": [],
   "source": [
    "####assemble normalised data into data frames\n",
    "\n",
    "#function to read in modelled decoding time data and normalise to mean\n",
    "def read_rrt(p,file_name):\n",
    "    df = pd.read_csv(p + file_name)\n",
    "    av_dt = np.mean(df['average_decoding_time'])\n",
    "    if not 'W' in file_name:\n",
    "        colname = 'base config'\n",
    "    else:\n",
    "        colname = file_name[:-4].replace('Wo_','')\n",
    "    df[colname] = df['average_decoding_time'] / av_dt\n",
    "    \n",
    "    return df[['codon',colname]]\n",
    "\n",
    "#read in filenames\n",
    "p = 'Data/base_pairing_decoding_times//'\n",
    "file_names = os.listdir(p)\n",
    "file_names = [file for file in file_names if file[0] == 'W']\n",
    "\n",
    "#initiate dataframe with baseline data\n",
    "norm_df = read_rrt(p,'base_configuration.csv')\n",
    "for file_name in file_names:\n",
    "    add_df = read_rrt(p,file_name)\n",
    "    norm_df = norm_df.merge(add_df,on='codon')\n",
    "\n",
    "#read in experimental RRT file names\n",
    "p = 'Data/Experimental data/'\n",
    "file_names = os.listdir(p)\n",
    "file_names = [file for file in file_names if file[0] != '.']\n",
    "\n",
    "#add experimental RRT data (RRTs are already normalised)\n",
    "for file_name in file_names:\n",
    "    add_df = pd.read_csv(p + file_name)\n",
    "    add_df['codon'] = add_df['codon'].str.replace('T','U')\n",
    "    add_df.columns = [add_df.columns[0],file_name[:-4]]\n",
    "    norm_df = norm_df.merge(add_df,on='codon')\n",
    "\n",
    "norm_df = norm_df.set_index('codon')\n",
    "norm_df = norm_df.iloc[:,0:].T"
   ]
  },
  {
   "cell_type": "markdown",
   "id": "e3403d9b-fe7a-4eb7-9eca-4a87c6979c5e",
   "metadata": {},
   "source": [
    "<h2>MDS</h2>"
   ]
  },
  {
   "cell_type": "code",
   "execution_count": 4,
   "id": "d30eef4a-3110-47fb-853c-4a4ee5ee20ef",
   "metadata": {},
   "outputs": [],
   "source": [
    "#fit 2D mds\n",
    "norm_mds = MDS(n_components=2,normalized_stress='auto',metric=True)\n",
    "norm_mds_data = norm_mds.fit_transform(norm_df)\n",
    "\n",
    "#identify MDs clusters\n",
    "get_mds_clusters = DBSCAN(eps=0.2, min_samples=10).fit(norm_mds_data)\n",
    "\n",
    "#compare distances in original and 2D datasets\n",
    "mds_comp_x = euclidean_distances(norm_mds_data).flatten()\n",
    "mds_comp_y = euclidean_distances(norm_df).flatten()"
   ]
  },
  {
   "cell_type": "code",
   "execution_count": 5,
   "id": "7420410b-8fc8-4e38-bbc3-41348bd43fbc",
   "metadata": {},
   "outputs": [
    {
     "data": {
      "image/png": "[encoded data removed]",
      "text/plain": [
       "<Figure size 600x400 with 1 Axes>"
      ]
     },
     "metadata": {},
     "output_type": "display_data"
    }
   ],
   "source": [
    "###Plot results\n",
    "\n",
    "x = norm_mds_data.T[0]\n",
    "y = norm_mds_data.T[1]\n",
    "\n",
    "fig, ax = plt.subplots(figsize=(6,4))\n",
    "ax.scatter(x,y,s=3,c=get_mds_clusters.labels_,cmap='viridis',alpha = 0.5)\n",
    "ax.scatter(x[0],y[0],c='red',s=25)\n",
    "ax.scatter(x[-5:],y[-5:],c='fuchsia',s=25)\n",
    "#label individual clusters with their cluster number\n",
    "for n in range(max(get_mds_clusters.labels_)+1):\n",
    "    select_x = [a[0] for i,a in enumerate(norm_mds_data) if get_mds_clusters.labels_[i] == n]\n",
    "    select_y = [a[1] for i,a in enumerate(norm_mds_data) if get_mds_clusters.labels_[i] == n]\n",
    "    ax.text(max(select_x) + 0.2,np.mean(select_y),str(n))\n",
    "plt.show()"
   ]
  },
  {
   "cell_type": "code",
   "execution_count": 6,
   "id": "acc0579f-adc0-45f2-9040-390de285789e",
   "metadata": {},
   "outputs": [
    {
     "data": {
      "image/png": "[encoded data removed]",
      "text/plain": [
       "<Figure size 600x400 with 1 Axes>"
      ]
     },
     "metadata": {},
     "output_type": "display_data"
    }
   ],
   "source": [
    "#plot .png version of figure without furniture to generate publication figure\n",
    "#(svg version is ~300 mb)\n",
    "fig, ax = plt.subplots(figsize=(6,4))\n",
    "ax.scatter(x,y,s=3,c=get_mds_clusters.labels_,cmap='viridis',alpha = 0.5)\n",
    "ax.scatter(x[0],y[0],c='red',s=25)\n",
    "ax.scatter(x[-5:],y[-5:],c='fuchsia',s=25,)\n",
    "ax.set_xticklabels([])\n",
    "ax.set_yticklabels([])\n",
    "plt.savefig('Figure files/mds_bare.png',dpi=600)\n",
    "plt.show()\n"
   ]
  },
  {
   "cell_type": "markdown",
   "id": "974d736f-87b1-4a4e-a65e-202c9006f502",
   "metadata": {},
   "source": [
    "<h2>Cluster composition</h2>\n",
    "<p>Symbols used for non-standard nucleotides are:</p>\n",
    "<table>\n",
    "    <td>\n",
    "        <ul>\n",
    "            <li>1: mcm5U</li>\n",
    "            <li>3: mcm5s2U</li>\n",
    "            <li>I: inosine</li>\n",
    "            <li>M: ac4C</i>\n",
    "            <li>N: unkown modified U</li>\n",
    "            <li>P: pseudouridine</li>\n",
    "        </ul>\n",
    "    </td>\n",
    "    <td>\n",
    "        <ul>        \n",
    "            <li>Q: queuosine</li>\n",
    "            <li>S: mnm5s2U</li>\n",
    "            <li>V: cmo5U</li>\n",
    "            <li>W: wybutosine</li>\n",
    "            <li>{: mnm5U</li>\n",
    "            <li>): cmnm5Um</li>\n",
    "        </ul>\n",
    "    </td>\n",
    "    <td>\n",
    "        <ul>\n",
    "            <li>&: ncm5U</li>\n",
    "            <li>~: ncm5Um</li>\n",
    "            <li>.: unknown nucleotide</li>\n",
    "            <li>?: m5C</li>\n",
    "        </ul>\n",
    "    </td>\n",
    "</table>"
   ]
  },
  {
   "cell_type": "code",
   "execution_count": 7,
   "id": "dafabd01-a564-444f-a21e-7bf6b25aa494",
   "metadata": {},
   "outputs": [],
   "source": [
    "def count_bp_labels(n):\n",
    "    bp_labels = norm_df.index\n",
    "    cluster_bp_labels = [bl for i,bl in enumerate(bp_labels) if get_mds_clusters.labels_[i] == n]\n",
    "    results = {}\n",
    "    for cbl in cluster_bp_labels:\n",
    "        cbl_elements = cbl.split(' ')\n",
    "        for el in cbl_elements:\n",
    "            if el in results.keys():\n",
    "                results[el] += 1\n",
    "            else:\n",
    "                results[el] = 1\n",
    "    return results"
   ]
  },
  {
   "cell_type": "code",
   "execution_count": 9,
   "id": "65a8ca46-d573-426c-9045-9ab1ece378b2",
   "metadata": {},
   "outputs": [
    {
     "name": "stdout",
     "output_type": "stream",
     "text": [
      "label no:8.64 data points.\n",
      "{'G_&': 64, 'G_~': 32, 'U_I': 32, 'A_A': 32, 'G_?': 32, 'G_A': 32, 'G_P': 32}\n"
     ]
    }
   ],
   "source": [
    "#change the number assigned to n in order to see the composition of different clusters\n",
    "n = 8\n",
    "print('label no:' + str(n) + '.' + str(np.sum([1 for l in get_mds_clusters.labels_ if l == n])) + ' data points.')\n",
    "print(count_bp_labels(n))"
   ]
  },
  {
   "cell_type": "code",
   "execution_count": null,
   "id": "6049ef94-c538-4d22-af95-e12434f15ddd",
   "metadata": {},
   "outputs": [],
   "source": []
  }
 ],
 "metadata": {
  "kernelspec": {
   "display_name": "Python 3 (ipykernel)",
   "language": "python",
   "name": "python3"
  },
  "language_info": {
   "codemirror_mode": {
    "name": "ipython",
    "version": 3
   },
   "file_extension": ".py",
   "mimetype": "text/x-python",
   "name": "python",
   "nbconvert_exporter": "python",
   "pygments_lexer": "ipython3",
   "version": "3.11.7"
  }
 },
 "nbformat": 4,
 "nbformat_minor": 5
}
