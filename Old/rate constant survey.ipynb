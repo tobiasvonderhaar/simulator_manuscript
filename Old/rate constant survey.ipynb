{
 "cells": [
  {
   "cell_type": "code",
   "execution_count": 22,
   "id": "679b568a-59c5-49ca-b265-ed6d29f95369",
   "metadata": {
    "tags": []
   },
   "outputs": [],
   "source": [
    "import pandas as pd\n",
    "import numpy as np\n",
    "import os\n",
    "import matplotlib.pyplot as plt\n",
    "import seaborn as sns\n",
    "\n",
    "from tqdm import tqdm\n",
    "\n",
    "from concentrations import concentrations_generator as cg\n",
    "import ribosomesimulator as r\n",
    "\n",
    "from sklearn.manifold import MDS\n",
    "from sklearn.metrics.pairwise import euclidean_distances\n",
    "from sklearn.preprocessing import StandardScaler\n",
    "from sklearn.cluster import DBSCAN"
   ]
  },
  {
   "cell_type": "code",
   "execution_count": 2,
   "id": "5589d802-ce0b-4ef8-bdf6-029521e30d38",
   "metadata": {
    "tags": []
   },
   "outputs": [],
   "source": [
    "#get the stored reaction propensities from the ribosome simulator\n",
    "sim = r.ribosomesimulator()\n",
    "props = sim.getPropensities()\n",
    "w6f_ref = props['wobble6f']\n",
    "wdiss_ref = props['wobblediss']"
   ]
  },
  {
   "cell_type": "code",
   "execution_count": 3,
   "id": "b3b779db-969a-4708-bc9e-befca540e2ac",
   "metadata": {
    "tags": []
   },
   "outputs": [],
   "source": [
    "#prepare list of codons to be modelled\n",
    "model_codons = []\n",
    "for n1 in ['A','C','G','U']:\n",
    "    for n2 in ['A','C','G','U']:\n",
    "        for n3 in ['A','C','G','U']:\n",
    "            codon = n1+n2+n3\n",
    "            if codon not in ['UAA','UAG','UGA']:\n",
    "                model_codons.append(codon)"
   ]
  },
  {
   "cell_type": "code",
   "execution_count": 8,
   "id": "239d88fd-c6f7-4ff1-9bbc-e53ebe3ac5c2",
   "metadata": {
    "tags": []
   },
   "outputs": [],
   "source": [
    "#prepare the required invariant parameters\n",
    "\n",
    "codon_list = pd.read_csv('tRNA data/codon.csv')\n",
    "tRNAs = pd.read_csv('tRNA data/N_GCN_Scer.csv')\n",
    "matrix = cg.make_matrix(tRNAs, codon_list, settings_file_name='default_basepairing.json')\n",
    "concs = cg.make_concentrations(matrix, tRNAs, codon_list, concentration_col_name='Seq').to_csv(path_or_buf = None)\n",
    "sim.loadConcentrationsFromString(concs)"
   ]
  },
  {
   "cell_type": "code",
   "execution_count": 9,
   "id": "121a385b-fa51-402e-958f-6b7100be2b04",
   "metadata": {
    "tags": []
   },
   "outputs": [
    {
     "name": "stdout",
     "output_type": "stream",
     "text": [
      "1\n",
      "2\n",
      "3\n",
      "4\n",
      "updated\n"
     ]
    }
   ],
   "source": [
    "#systematically vary wobble6f and wobblediss and record predicted decoding times\n",
    "factors = [1,2,3,4]\n",
    "result_list = []\n",
    "for factor in factors:\n",
    "    sim = r.ribosomesimulator()\n",
    "    sim.loadConcentrationsFromString(concs)\n",
    "    print(factor)\n",
    "    props['wobblediss'] = wdiss_ref*factor\n",
    "    sim.setPropensities(props)\n",
    "    run_results = []\n",
    "    for codon in model_codons:\n",
    "        sim.setCodonForSimulation(codon)\n",
    "        run_results.append(sim.run_repeatedly_get_average_time(10000))\n",
    "    result_list.append(run_results)\n",
    "#add run with modified rate constants ie 130 and 90\n",
    "sim = r.ribosomesimulator()\n",
    "sim.loadConcentrationsFromString(concs)\n",
    "print('updated')\n",
    "props['wobblediss'] = 90\n",
    "props['wobble6f'] = 120\n",
    "run_results = []\n",
    "for codon in model_codons:\n",
    "    sim.setCodonForSimulation(codon)\n",
    "    run_results.append(sim.run_repeatedly_get_average_time(10000))\n",
    "result_list.append(run_results)\n",
    "df = pd.DataFrame({'codon':model_codons})\n",
    "factors += ['updated']\n",
    "for idx,f in enumerate(factors):\n",
    "    df[factors[idx]] = result_list[idx]"
   ]
  },
  {
   "cell_type": "code",
   "execution_count": 19,
   "id": "e98fd8fd-9b65-4a9b-b85b-344967f0dada",
   "metadata": {
    "tags": []
   },
   "outputs": [],
   "source": [
    "#add RRTs to df\n",
    "combined_data =pd.DataFrame(df['codon'])\n",
    "for colname in df.columns[1:]:\n",
    "    colmean = np.mean(df[colname])\n",
    "    combined_data[colname] = df[colname] / colmean\n",
    "rrt_filenames = os.listdir('Codon data/')\n",
    "for rrt_filename in rrt_filenames:\n",
    "    if rrt_filename[0] != '.':\n",
    "        new_data = pd.read_csv('Codon data/' + rrt_filename)\n",
    "        new_name = rrt_filename[:-4]\n",
    "        new_data.columns = ['codon',new_name]\n",
    "        combined_data = combined_data.merge(new_data,on='codon')\n",
    "combined_data = combined_data.set_index('codon')"
   ]
  },
  {
   "cell_type": "code",
   "execution_count": 20,
   "id": "c5c370b8-856d-478b-8259-044c19b4a4cd",
   "metadata": {
    "tags": []
   },
   "outputs": [
    {
     "data": {
      "text/html": [
       "<div>\n",
       "<style scoped>\n",
       "    .dataframe tbody tr th:only-of-type {\n",
       "        vertical-align: middle;\n",
       "    }\n",
       "\n",
       "    .dataframe tbody tr th {\n",
       "        vertical-align: top;\n",
       "    }\n",
       "\n",
       "    .dataframe thead th {\n",
       "        text-align: right;\n",
       "    }\n",
       "</style>\n",
       "<table border=\"1\" class=\"dataframe\">\n",
       "  <thead>\n",
       "    <tr style=\"text-align: right;\">\n",
       "      <th></th>\n",
       "      <th>1</th>\n",
       "      <th>2</th>\n",
       "      <th>3</th>\n",
       "      <th>4</th>\n",
       "      <th>updated</th>\n",
       "      <th>Fang_2018</th>\n",
       "      <th>Gardin_2014</th>\n",
       "      <th>Weinberg_2016</th>\n",
       "      <th>Pop_2014</th>\n",
       "      <th>Bordignon_2021</th>\n",
       "    </tr>\n",
       "    <tr>\n",
       "      <th>codon</th>\n",
       "      <th></th>\n",
       "      <th></th>\n",
       "      <th></th>\n",
       "      <th></th>\n",
       "      <th></th>\n",
       "      <th></th>\n",
       "      <th></th>\n",
       "      <th></th>\n",
       "      <th></th>\n",
       "      <th></th>\n",
       "    </tr>\n",
       "  </thead>\n",
       "  <tbody>\n",
       "    <tr>\n",
       "      <th>AAA</th>\n",
       "      <td>0.713339</td>\n",
       "      <td>0.668554</td>\n",
       "      <td>0.634336</td>\n",
       "      <td>0.606947</td>\n",
       "      <td>0.702614</td>\n",
       "      <td>0.818143</td>\n",
       "      <td>0.88</td>\n",
       "      <td>0.817614</td>\n",
       "      <td>1.264451</td>\n",
       "      <td>0.673518</td>\n",
       "    </tr>\n",
       "    <tr>\n",
       "      <th>AAC</th>\n",
       "      <td>0.505529</td>\n",
       "      <td>0.477494</td>\n",
       "      <td>0.442277</td>\n",
       "      <td>0.421240</td>\n",
       "      <td>0.496021</td>\n",
       "      <td>0.628564</td>\n",
       "      <td>0.76</td>\n",
       "      <td>0.576569</td>\n",
       "      <td>1.011561</td>\n",
       "      <td>0.381353</td>\n",
       "    </tr>\n",
       "    <tr>\n",
       "      <th>AAG</th>\n",
       "      <td>0.350172</td>\n",
       "      <td>0.335994</td>\n",
       "      <td>0.324037</td>\n",
       "      <td>0.305982</td>\n",
       "      <td>0.353315</td>\n",
       "      <td>0.795997</td>\n",
       "      <td>0.74</td>\n",
       "      <td>0.914622</td>\n",
       "      <td>1.180155</td>\n",
       "      <td>0.505395</td>\n",
       "    </tr>\n",
       "    <tr>\n",
       "      <th>ACA</th>\n",
       "      <td>0.539549</td>\n",
       "      <td>0.530138</td>\n",
       "      <td>0.517336</td>\n",
       "      <td>0.509128</td>\n",
       "      <td>0.532753</td>\n",
       "      <td>0.879736</td>\n",
       "      <td>1.35</td>\n",
       "      <td>1.107640</td>\n",
       "      <td>0.969990</td>\n",
       "      <td>0.720674</td>\n",
       "    </tr>\n",
       "    <tr>\n",
       "      <th>ACC</th>\n",
       "      <td>0.589364</td>\n",
       "      <td>0.596563</td>\n",
       "      <td>0.608014</td>\n",
       "      <td>0.614513</td>\n",
       "      <td>0.583601</td>\n",
       "      <td>0.619733</td>\n",
       "      <td>0.70</td>\n",
       "      <td>0.583098</td>\n",
       "      <td>0.769666</td>\n",
       "      <td>0.124042</td>\n",
       "    </tr>\n",
       "  </tbody>\n",
       "</table>\n",
       "</div>"
      ],
      "text/plain": [
       "              1         2         3         4   updated  Fang_2018  \\\n",
       "codon                                                                \n",
       "AAA    0.713339  0.668554  0.634336  0.606947  0.702614   0.818143   \n",
       "AAC    0.505529  0.477494  0.442277  0.421240  0.496021   0.628564   \n",
       "AAG    0.350172  0.335994  0.324037  0.305982  0.353315   0.795997   \n",
       "ACA    0.539549  0.530138  0.517336  0.509128  0.532753   0.879736   \n",
       "ACC    0.589364  0.596563  0.608014  0.614513  0.583601   0.619733   \n",
       "\n",
       "       Gardin_2014  Weinberg_2016  Pop_2014  Bordignon_2021  \n",
       "codon                                                        \n",
       "AAA           0.88       0.817614  1.264451        0.673518  \n",
       "AAC           0.76       0.576569  1.011561        0.381353  \n",
       "AAG           0.74       0.914622  1.180155        0.505395  \n",
       "ACA           1.35       1.107640  0.969990        0.720674  \n",
       "ACC           0.70       0.583098  0.769666        0.124042  "
      ]
     },
     "execution_count": 20,
     "metadata": {},
     "output_type": "execute_result"
    }
   ],
   "source": [
    "combined_data.head()"
   ]
  },
  {
   "cell_type": "code",
   "execution_count": 23,
   "id": "39bb29f6-59ab-4880-b891-01f32f6ee8ed",
   "metadata": {},
   "outputs": [],
   "source": [
    "#fit 2D mds\n",
    "mds = MDS(n_components=2,normalized_stress='auto',metric=True)\n",
    "mds_data = mds.fit_transform(combined_data.T)\n",
    "get_mds_clusters = DBSCAN(eps=0.2, min_samples=10).fit(mds_data)"
   ]
  },
  {
   "cell_type": "code",
   "execution_count": 26,
   "id": "c0d315ed-70ce-41f6-958f-9095df060a8b",
   "metadata": {},
   "outputs": [
    {
     "data": {
      "image/png": "[encoded data removed]",
      "text/plain": [
       "<Figure size 600x400 with 1 Axes>"
      ]
     },
     "metadata": {},
     "output_type": "display_data"
    }
   ],
   "source": [
    "###Plot results\n",
    "\n",
    "x = mds_data.T[0]\n",
    "y = mds_data.T[1]\n",
    "\n",
    "fig, ax = plt.subplots(figsize=(6,4))\n",
    "ax.scatter(x[:5],y[:5],s=25,c=[1,2,3,4,5],cmap='hsv',marker='x')\n",
    "ax.scatter(x[-5:],y[-5:],c='grey',edgecolor='black',s=25,alpha=0.5)\n",
    "#label individual clusters with their cluster number\n",
    "for n in range(max(get_mds_clusters.labels_)+1):\n",
    "    select_x = [a[0] for i,a in enumerate(norm_mds_data) if get_mds_clusters.labels_[i] == n]\n",
    "    select_y = [a[1] for i,a in enumerate(norm_mds_data) if get_mds_clusters.labels_[i] == n]\n",
    "    ax.text(max(select_x) + 0.2,np.mean(select_y),str(n))\n",
    "ax.set_xlim((-12,12))\n",
    "ax.set_ylim((-12,12))\n",
    "ax.set_xlabel('Dimension 1')\n",
    "ax.set_ylabel('Dimension 2')\n",
    "plt.savefig('tRNA dataset clusters.svg')\n",
    "plt.show()\n"
   ]
  },
  {
   "cell_type": "code",
   "execution_count": null,
   "id": "61a7d843-78ff-4dad-a9aa-259647a7d68e",
   "metadata": {},
   "outputs": [],
   "source": []
  }
 ],
 "metadata": {
  "kernelspec": {
   "display_name": "Python 3 (ipykernel)",
   "language": "python",
   "name": "python3"
  },
  "language_info": {
   "codemirror_mode": {
    "name": "ipython",
    "version": 3
   },
   "file_extension": ".py",
   "mimetype": "text/x-python",
   "name": "python",
   "nbconvert_exporter": "python",
   "pygments_lexer": "ipython3",
   "version": "3.11.7"
  }
 },
 "nbformat": 4,
 "nbformat_minor": 5
}
