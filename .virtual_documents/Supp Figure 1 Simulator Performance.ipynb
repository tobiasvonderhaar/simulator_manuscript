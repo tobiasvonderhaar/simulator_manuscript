import matplotlib.pyplot as plt
import sequence_simulator
import elongation.utils
from time import process_time
import numpy as np
import cpuinfo
cpu = cpuinfo.get_cpu_info()['brand_raw']





#define GST sequence
seq = "ATGCACCTTAAACGAAATGACCCTAAGCCGCTAATTGATCCTAATCGCTTAACTCTCATTGGATTCAGATTTTGCCCTTACGTTGACCGCGTTAAACTAATACTGAGTTACTACAAGGTTGATTATGATCTCATAGATATTTCATTGGCTTCAAAACCTGAATGGTTTTTAGAAATGTATCCAACTGGCAAAGTTCCTTTATTATTACTACCAAATGGAGAAAAATTACCAGAATCCGATGTGATCATACGTTATATAGATAAATTGTATGGTTCTGAAACTTTATTATCACGTTGTGGTATTGAAGAGTTTGAAAAAGCTAAAGAACTTATTACTGGTATATCAAGACCAAGTTACATGATTATGTGTGTGCCCGAAATAAATCTATGTGATGTATCACTGTATCGAGCAGCATGCAGTAAGATAAATGACGCTATCAAAGGTCCATATTTTACTGGTCCTGATGTGAGTCTAGCTGATTTGATCTTATTCCCACACTTACATCGATTCGAAGTAGTTATGGGTCGGATAACCGGTAAAAAACCAGAAGAAATCAATGAACTGGGTGTTAATGATGAATTACGTAAAGAATTCTCAAAGTTGACTGAATTTTTAGATACAATGCGAAAACAACCATTTGTTGCTAATGTTACCGTCCCATATCGAATTCATGCTCAATATGCAGCTTCAGTGCTCGCAGGTCAAAGTAATCCAGATATAGAA"

#prepare vectors to hold results
lenvec,timesvec = [],[]

#sim.setHistorySize(10000000)
#model seq concatemers
multiplier = 1
while multiplier < 20:    
    #model increasing subsequences of the reference sequences
    sim = sequence_simulator.SequenceSimulator()
    sim.load_concentrations("Data/Scer_concentrations.csv")
    sim.set_initiation_rate(0.1)
    sim.set_termination_rate(100)
    sim.set_finished_ribosomes(1000)
    sim.input_MRNA(seq * multiplier + 'TAA')
    sim.set_ribosome_positions([1])
    start = process_time()
    sim.run()
    elapsed = process_time()-start
    timesvec.append(elapsed)
    lenvec.append(len(seq*multiplier)/3)
    multiplier += 1



#plot results
fig,ax = plt.subplots()
ax.scatter(lenvec,timesvec,c='black',alpha=0.5)
ax.set_xlabel('Sequence length (codons)')
ax.set_ylabel('Process time (sec)')
fig.suptitle(cpu)
#plt.savefig('Supp figure 1 Simulator performance.png')
plt.show()



