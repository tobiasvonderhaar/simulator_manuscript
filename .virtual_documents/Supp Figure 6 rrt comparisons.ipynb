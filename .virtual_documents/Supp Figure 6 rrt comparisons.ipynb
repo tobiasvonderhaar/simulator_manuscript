import pandas as pd
import matplotlib.pyplot as plt
import seaborn as sns
import os


#import rrt datasets
p = 'Data/Experimental data/'
rrt_files = os.listdir(p)
rrt_df = pd.DataFrame()
for rrt_file in rrt_files:
    if rrt_file[0] != '.':
        if rrt_df.shape == (0, 0):
            rrt_df = pd.read_csv(p + rrt_file)
            rrt_df.columns = [rrt_df.columns[0], rrt_file[:-4]]
        else:
            add_df = pd.read_csv(p + rrt_file)
            add_df.columns = [add_df.columns[0], rrt_file[:-4]]
            rrt_df = rrt_df.merge(add_df, on='codon')


plot = sns.pairplot(rrt_df)
for ax in plot.axes.flatten():
    xlab = ax.get_xlabel()
    if len(xlab) ==0: continue
    ax.set_xlim((0,6))

    ylab = ax.get_ylabel()
    if len(ylab)==0: continue
    ax.set_ylim((0,6))
#plot.savefig('Figue files/ Supp fig pairwise rrts.png')



