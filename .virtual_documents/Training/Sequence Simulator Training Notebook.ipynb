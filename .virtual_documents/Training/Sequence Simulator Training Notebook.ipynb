





#import the Python modules for running the models
import sequence_simulator as ss
from concentrations import concentrations_generator as cg
#some other Python packages are required to run the scripts below
import pandas as pd
import matplotlib.pyplot as plt





tRNAs = pd.read_csv('N_GCN_Scer.csv')
codons = pd.read_csv('codons.csv')
matrices = cg.make_matrix(tRNAs, codons)
concs = cg.make_concentrations(matrices, tRNAs, codons, concentration_col_name='Seq').to_csv(path_or_buf = None)





#instantiate an instance of the simulator class
sim = ss.SequenceSimulator()
#load the calcuated tRNA concentratiosn for each codon
sim.load_concentrations_from_string(concs)
#specify the RNA sequence to be simulated
sim.input_MRNA("ATGTTCAGCGAATTAATTAACTTCCAAAATGAAGGTCATGAGTGCCAATGCCAATGTGGTAGCTGCAAAAATAATGAACAATGCCAAAAATCATGTAGCTGCCCAACGGGGTGTAACAGCGACGACAAATGCCCCTGCGGTAACAAGTCTGAAGAAACCTGA")
#specify translation initiation and termination rates to be used
sim.set_initiation_rate(2)
sim.set_termination_rate(100)
#specify a termination condition
sim.set_time_limit(150) # simulate 2.5 minutes (150 seconds)
#run the simulation
sim.run()





positions = sim.ribosome_positions_history
timesteps = sim.dt_history
#these can usefully be inspected in a dataframe
pd.DataFrame({"Ribosomes positions": positions, "Time elapsed in secs":timesteps})








#print average deocding times of the first ten codons
print(sim.average_times[:10])





durations = sim.get_elongation_duration()[0]
indices = sim.get_elongation_duration()[1]
pd.DataFrame({"Elongation duration": durations, "Index":indices})





# for a fasta file with a single sequence:
#sim.load_MRNA(path_to_fastaFile) 
#for a fasta file with multiple sequences:
#sim.load_MRNA(path_to_fastaFile, "sequence_name")





#simulate for 100 second (system time)
sim.set_time_limit(100)
#simulate until 500 ribosomes have translateed the mRNA
sim.set_finished_ribosomes(500)
#simulate until 5000 ribosome movements have ocurred
sim.set_iteration_limit(5000)





#retrieve the inbuilt reaction rates (propensities)
propensities = sim.get_propensities();
#print the propensities of the sixth codon
print(propensities[5])


#set the 'WCdiss' reaction rate for the second codon to 1000
propensities[1]['WCdiss'] = 5
sim.set_propensities(propensities)

# OR #

#set the 'WCdiss' reaction rates for all codons to 1000
for propensity in propensities:
    propensity['WCdiss'] = 5
#set the new propensities in the simulator
sim.set_propensities(propensities)





# prepolulate to steady state
sim.set_prepopulate(True)

# OR #

# set ribosomes to specified initial positions
sim.set_ribosome_positions([1,11, 21])





# enable the non-cognate pathway. Disabled by default
sim.set_nonCognate(True) 





sim.set_log_codon_states(True) #if sim is run now, internal state changes of all ribosomes are recorded 
                                #(this greatly increases the amount of data generated).
sim.set_log_codon_states(False) # sets the simulator back to the default. 



