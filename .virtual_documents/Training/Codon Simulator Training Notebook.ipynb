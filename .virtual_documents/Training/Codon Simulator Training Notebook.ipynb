





#import the Python modules for running the models
import codon_simulator as cs
from concentrations import concentrations_generator as cg
#some other Python packages are required to run the scripts below
import pandas as pd
import matplotlib.pyplot as plt
import json





#read in tRNA concentrations from the prepared .csv file
tRNAs = pd.read_csv('N_GCN_Scer.csv')
codons = pd.read_csv('codons.csv')
#determine which tRNAs are Watson:Crick cognate, wobble cognate, near-cognate or non-cognate for which codon
matrices = cg.make_matrix(tRNAs, codons)
#From the different tRNA assignments for each codon, calculate the class concentrations for each codon
concs = cg.make_concentrations(matrices, tRNAs, codons, concentration_col_name='Seq').to_csv(path_or_buf = None)





cg.plot_matrix(matrices,tRNAs,codons)





#load and inspect the 'basepairing.json' file.
with open('basepairing.json', 'r') as file:
    bpdata = json.load(file)
    print(bpdata)





matrices = cg.make_matrix(tRNAs, codons, settings_file_name='basepairing.json')





#instantiate a codon simulator object
sim=cs.CodonSimulator()
#load the concentrations prepared above into a simulator object
sim.load_concentrations_from_string(concs)
#simulate decoding of an 'AAG' codon 100 times, and retrieve the average decoding cycle time
#(codon decoding plus translocation) in seconds
sim.set_codon_for_simulation('AAG')
result=sim.run_repeatedly_get_average_time(100)
print(result)


#the same as above, but run once and get the separate codon decoding and translocation times in seconds
results=sim.run_and_get_times()
print(results)


#report all ribosome state changes for the most recent simulation run in detail
print(sim.ribosome_state_history)


#report the time steps between the state changes above
print(sim.dt_history)





#load the existing parameters into a dictionary
sim=cs.CodonSimulator()
propensities = sim.get_propensities()
print(propensities)


#instantiate a new simluator object
sim=cs.CodonSimulator()
sim.load_concentrations_from_string(concs)
sim.set_codon_for_simulation('AAG')
propensities = sim.get_propensities()
#set the propensity for the 'WCdiss' reaction to 1000 rather than 60 (the default)

result_before_change = sim.run_repeatedly_get_average_time(1000)
print('Result before parameter change: ' + str(result_before_change))
propensities['WCdiss'] = 1000
sim.set_propensities(propensities)
result_after_change = sim.run_repeatedly_get_average_time(1000)
print('Result after parameter change: ' + str(result_after_change))




