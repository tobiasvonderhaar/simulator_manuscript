{
 "cells": [
  {
   "cell_type": "code",
   "execution_count": 1,
   "id": "050566c4-71f4-416d-b9e1-5fe000398736",
   "metadata": {},
   "outputs": [],
   "source": [
    "import matplotlib.pyplot as plt\n",
    "import sequence_simulator\n",
    "import elongation.utils\n",
    "from time import process_time\n",
    "import numpy as np\n",
    "import cpuinfo\n",
    "cpu = cpuinfo.get_cpu_info()['brand_raw']"
   ]
  },
  {
   "cell_type": "markdown",
   "id": "03479633-4edc-494a-b709-31362a066755",
   "metadata": {
    "tags": []
   },
   "source": [
    "\n",
    "<h1 style=\"color:red\">Slow Script</h1>"
   ]
  },
  {
   "cell_type": "code",
   "execution_count": null,
   "id": "757bcce9-d5b0-4090-828f-3ee4f1eb5cf7",
   "metadata": {
    "tags": []
   },
   "outputs": [],
   "source": [
    "#define GST sequence\n",
    "seq = \"ATGCACCTTAAACGAAATGACCCTAAGCCGCTAATTGATCCTAATCGCTTAACTCTCATTGGATTCAGATTTTGCCCTTACGTTGACCGCGTTAAACTAATACTGAGTTACTACAAGGTTGATTATGATCTCATAGATATTTCATTGGCTTCAAAACCTGAATGGTTTTTAGAAATGTATCCAACTGGCAAAGTTCCTTTATTATTACTACCAAATGGAGAAAAATTACCAGAATCCGATGTGATCATACGTTATATAGATAAATTGTATGGTTCTGAAACTTTATTATCACGTTGTGGTATTGAAGAGTTTGAAAAAGCTAAAGAACTTATTACTGGTATATCAAGACCAAGTTACATGATTATGTGTGTGCCCGAAATAAATCTATGTGATGTATCACTGTATCGAGCAGCATGCAGTAAGATAAATGACGCTATCAAAGGTCCATATTTTACTGGTCCTGATGTGAGTCTAGCTGATTTGATCTTATTCCCACACTTACATCGATTCGAAGTAGTTATGGGTCGGATAACCGGTAAAAAACCAGAAGAAATCAATGAACTGGGTGTTAATGATGAATTACGTAAAGAATTCTCAAAGTTGACTGAATTTTTAGATACAATGCGAAAACAACCATTTGTTGCTAATGTTACCGTCCCATATCGAATTCATGCTCAATATGCAGCTTCAGTGCTCGCAGGTCAAAGTAATCCAGATATAGAA\"\n",
    "\n",
    "#prepare vectors to hold results\n",
    "lenvec,timesvec = [],[]\n",
    "\n",
    "#sim.setHistorySize(10000000)\n",
    "#model seq concatemers\n",
    "multiplier = 1\n",
    "while multiplier < 20:    \n",
    "    #model increasing subsequences of the reference sequences\n",
    "    sim = sequence_simulator.SequenceSimulator()\n",
    "    sim.load_concentrations(\"Data/Scer_concentrations.csv\")\n",
    "    sim.set_initiation_rate(0.1)\n",
    "    sim.set_termination_rate(100)\n",
    "    sim.set_finished_ribosomes(1000)\n",
    "    sim.input_MRNA(seq * multiplier + 'TAA')\n",
    "    sim.set_ribosome_positions([1])\n",
    "    start = process_time()\n",
    "    sim.run()\n",
    "    elapsed = process_time()-start\n",
    "    timesvec.append(elapsed)\n",
    "    lenvec.append(len(seq*multiplier)/3)\n",
    "    multiplier += 1\n"
   ]
  },
  {
   "cell_type": "code",
   "execution_count": null,
   "id": "5dec1147",
   "metadata": {},
   "outputs": [],
   "source": [
    "#plot results\n",
    "fig,ax = plt.subplots()\n",
    "ax.scatter(lenvec,timesvec,c='black',alpha=0.5)\n",
    "ax.set_xlabel('Sequence length (codons)')\n",
    "ax.set_ylabel('Process time (sec)')\n",
    "fig.suptitle(cpu)\n",
    "plt.savefig('Supp figure 1 Simulator performance.png')\n",
    "plt.show()"
   ]
  },
  {
   "cell_type": "code",
   "execution_count": null,
   "id": "30d632f2-5baa-4ea9-a1d5-575149b4dc78",
   "metadata": {},
   "outputs": [],
   "source": []
  }
 ],
 "metadata": {
  "kernelspec": {
   "display_name": "Python 3 (ipykernel)",
   "language": "python",
   "name": "python3"
  },
  "language_info": {
   "codemirror_mode": {
    "name": "ipython",
    "version": 3
   },
   "file_extension": ".py",
   "mimetype": "text/x-python",
   "name": "python",
   "nbconvert_exporter": "python",
   "pygments_lexer": "ipython3",
   "version": "3.12.8"
  }
 },
 "nbformat": 4,
 "nbformat_minor": 5
}
