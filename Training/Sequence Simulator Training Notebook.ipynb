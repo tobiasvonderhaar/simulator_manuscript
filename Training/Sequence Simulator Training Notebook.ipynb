{
 "cells": [
  {
   "cell_type": "markdown",
   "id": "3733d34f-4141-4c41-9e0e-c520c8d6f93c",
   "metadata": {},
   "source": [
    "<a name='top'></a>\n",
    "<h1>Sequence Simulator: a Training Notebook</h1>\n",
    "<p>...</p>\n",
    "<h3><b>Sections:</b></h3>\n",
    "<ul>\n",
    "    <li><a href='#Imports'>Imports</a></li>\n",
    "    <li><a href='#Basic'>Basic simulations</a></li>\n",
    "    <li><a href='#Results'>Retrieving results</a></li>\n",
    "    <li><a href='#Vars'>Variations</a></li>\n",
    "</ul>"
   ]
  },
  {
   "cell_type": "markdown",
   "id": "68cd062b-60d3-44e1-894b-2c501a177a83",
   "metadata": {},
   "source": [
    "<a name='Imports'></a>\n",
    "<h2>Imports</h2>\n",
    "<a href='#top'>Back to top</a>"
   ]
  },
  {
   "cell_type": "code",
   "execution_count": 1,
   "id": "613c556c-edc3-43b5-90c6-e06cece90639",
   "metadata": {
    "tags": []
   },
   "outputs": [],
   "source": [
    "#import the Python modules for running the models\n",
    "import sequence_simulator as ss\n",
    "from concentrations import concentrations_generator as cg\n",
    "#some other Python packages are required to run the scripts below\n",
    "import pandas as pd\n",
    "import matplotlib.pyplot as plt"
   ]
  },
  {
   "cell_type": "markdown",
   "id": "5f74a26e-10d0-421a-a673-4e02aed329b7",
   "metadata": {},
   "source": [
    "<a name='Basic'></a>\n",
    "<h2>Basic simulation</h2>\n",
    "<a href='#top'>Back to top</a>\n",
    "\n",
    "<p>To run a basic simulation the following need to be provided:</p>\n",
    "<ul>\n",
    "    <li>Codon-specific tRNA concentrations need to be calculated from tRNA concentration data, which need to be provided via a .csv-file such as the enclosed 'N_GCN_Scer.csv' file.</li>\n",
    "    <li>A sequence to be simulated needs to be specified.</li>\n",
    "    <li>Translation intiation and termination rates need to be set.</li>\n",
    "    <li>An exit conditions needs to be set (a condition tellign the simulator when to stop simulating.</li>\n",
    "</ul>\n",
    "\n",
    "<p>The processing of tRNA abundance data is identical to the codon simulator.</p>"
   ]
  },
  {
   "cell_type": "code",
   "execution_count": 2,
   "id": "89634fe3-0630-4e36-90ad-2eec5d19aaa6",
   "metadata": {
    "tags": []
   },
   "outputs": [],
   "source": [
    "tRNAs = pd.read_csv('N_GCN_Scer.csv')\n",
    "codons = pd.read_csv('codons.csv')\n",
    "matrices = cg.make_matrix(tRNAs, codons)\n",
    "concs = cg.make_concentrations(matrices, tRNAs, codons, concentration_col_name='Seq').to_csv(path_or_buf = None)"
   ]
  },
  {
   "cell_type": "markdown",
   "id": "e215461f-a467-49a3-a764-afeaf50f33f1",
   "metadata": {},
   "source": [
    "<p>A basic simulation is set up as follows:</p>"
   ]
  },
  {
   "cell_type": "code",
   "execution_count": 3,
   "id": "b40501f1-08d0-4489-a20a-0db79102b1b1",
   "metadata": {
    "tags": []
   },
   "outputs": [],
   "source": [
    "#instantiate an instance of the simulator class\n",
    "sim = ss.SequenceSimulator()\n",
    "#load the calcuated tRNA concentratiosn for each codon\n",
    "sim.load_concentrations_from_string(concs)\n",
    "#specify the RNA sequence to be simulated\n",
    "sim.input_MRNA(\"ATGTTCAGCGAATTAATTAACTTCCAAAATGAAGGTCATGAGTGCCAATGCCAATGTGGTAGCTGCAAAAATAATGAACAATGCCAAAAATCATGTAGCTGCCCAACGGGGTGTAACAGCGACGACAAATGCCCCTGCGGTAACAAGTCTGAAGAAACCTGA\")\n",
    "#specify translation initiation and termination rates to be used\n",
    "sim.set_initiation_rate(2)\n",
    "sim.set_termination_rate(100)\n",
    "#specify a termination condition\n",
    "sim.set_time_limit(150) # simulate 2.5 minutes (150 seconds)\n",
    "#run the simulation\n",
    "sim.run()"
   ]
  },
  {
   "cell_type": "markdown",
   "id": "4c29d244-b609-4ee3-a592-fbf4c73f98ef",
   "metadata": {},
   "source": [
    "<a name='Results'></a>\n",
    "<h2>Retrieving results</h2>\n",
    "<a href='#top'>Back to top</a>\n",
    "\n",
    "<p>Results can be retrieved in varous ways, depending on which parameters are of interest.</p>\n",
    "\n",
    "<p><b>Changes in ribosome positions</b>, and the time elapsed between changes, can be accessed via the 'ribosome_positions_history' and 'dt_history' attributes of sim.</p>"
   ]
  },
  {
   "cell_type": "code",
   "execution_count": 4,
   "id": "e24f198d-40b3-4374-8f78-2b11555db38e",
   "metadata": {
    "tags": []
   },
   "outputs": [
    {
     "data": {
      "text/html": [
       "<div>\n",
       "<style scoped>\n",
       "    .dataframe tbody tr th:only-of-type {\n",
       "        vertical-align: middle;\n",
       "    }\n",
       "\n",
       "    .dataframe tbody tr th {\n",
       "        vertical-align: top;\n",
       "    }\n",
       "\n",
       "    .dataframe thead th {\n",
       "        text-align: right;\n",
       "    }\n",
       "</style>\n",
       "<table border=\"1\" class=\"dataframe\">\n",
       "  <thead>\n",
       "    <tr style=\"text-align: right;\">\n",
       "      <th></th>\n",
       "      <th>Ribosomes positions</th>\n",
       "      <th>Time elapsed in secs</th>\n",
       "    </tr>\n",
       "  </thead>\n",
       "  <tbody>\n",
       "    <tr>\n",
       "      <th>0</th>\n",
       "      <td>[]</td>\n",
       "      <td>0.000000</td>\n",
       "    </tr>\n",
       "    <tr>\n",
       "      <th>1</th>\n",
       "      <td>[0]</td>\n",
       "      <td>0.326240</td>\n",
       "    </tr>\n",
       "    <tr>\n",
       "      <th>2</th>\n",
       "      <td>[1]</td>\n",
       "      <td>0.813548</td>\n",
       "    </tr>\n",
       "    <tr>\n",
       "      <th>3</th>\n",
       "      <td>[2]</td>\n",
       "      <td>0.145209</td>\n",
       "    </tr>\n",
       "    <tr>\n",
       "      <th>4</th>\n",
       "      <td>[3]</td>\n",
       "      <td>0.038119</td>\n",
       "    </tr>\n",
       "    <tr>\n",
       "      <th>...</th>\n",
       "      <td>...</td>\n",
       "      <td>...</td>\n",
       "    </tr>\n",
       "    <tr>\n",
       "      <th>799</th>\n",
       "      <td>[5, 16, 26, 36, 51]</td>\n",
       "      <td>0.016009</td>\n",
       "    </tr>\n",
       "    <tr>\n",
       "      <th>800</th>\n",
       "      <td>[6, 16, 26, 36, 51]</td>\n",
       "      <td>0.555027</td>\n",
       "    </tr>\n",
       "    <tr>\n",
       "      <th>801</th>\n",
       "      <td>[6, 16, 26, 36, 52]</td>\n",
       "      <td>0.300657</td>\n",
       "    </tr>\n",
       "    <tr>\n",
       "      <th>802</th>\n",
       "      <td>[6, 16, 26, 36, 53]</td>\n",
       "      <td>0.002872</td>\n",
       "    </tr>\n",
       "    <tr>\n",
       "      <th>803</th>\n",
       "      <td>[6, 16, 26, 36]</td>\n",
       "      <td>0.933526</td>\n",
       "    </tr>\n",
       "  </tbody>\n",
       "</table>\n",
       "<p>804 rows × 2 columns</p>\n",
       "</div>"
      ],
      "text/plain": [
       "     Ribosomes positions  Time elapsed in secs\n",
       "0                     []              0.000000\n",
       "1                    [0]              0.326240\n",
       "2                    [1]              0.813548\n",
       "3                    [2]              0.145209\n",
       "4                    [3]              0.038119\n",
       "..                   ...                   ...\n",
       "799  [5, 16, 26, 36, 51]              0.016009\n",
       "800  [6, 16, 26, 36, 51]              0.555027\n",
       "801  [6, 16, 26, 36, 52]              0.300657\n",
       "802  [6, 16, 26, 36, 53]              0.002872\n",
       "803      [6, 16, 26, 36]              0.933526\n",
       "\n",
       "[804 rows x 2 columns]"
      ]
     },
     "execution_count": 4,
     "metadata": {},
     "output_type": "execute_result"
    }
   ],
   "source": [
    "positions = sim.ribosome_positions_history\n",
    "timesteps = sim.dt_history\n",
    "#these can usefully be inspected in a dataframe\n",
    "pd.DataFrame({\"Ribosomes positions\": positions, \"Time elapsed in secs\":timesteps})"
   ]
  },
  {
   "cell_type": "markdown",
   "id": "44eea444-b3e7-4f75-842d-649f22696b5e",
   "metadata": {},
   "source": [
    "<p>In this case the simulation startes with an empty RNA ('[]'), after 0.65 second sthe firdst ribosome initiates and takes position  0, after a further 0.14 seconds the ribosome moves from position 0 to position 1, etc. Entries with more than one number, eg '[9, 20, 32, 43]' denote polysomes with multiple ribosomes and their respectie positions.</p>"
   ]
  },
  {
   "cell_type": "markdown",
   "id": "7957c981-b7e7-4752-b2b1-c50887dc184b",
   "metadata": {},
   "source": [
    "<p>The <b>average decoding time of each codon</b> in the sequence can be accessed using the 'average_times' attribute of sim.</p>"
   ]
  },
  {
   "cell_type": "code",
   "execution_count": 5,
   "id": "1e3d1df6-9fdb-47fa-b4c0-6b629d663982",
   "metadata": {
    "tags": []
   },
   "outputs": [
    {
     "name": "stdout",
     "output_type": "stream",
     "text": [
      "[0.5081542134284973, 0.5131803154945374, 1.6684316396713257, 0.7047904133796692, 1.0152301788330078, 0.7200312614440918, 0.7845287919044495, 0.7498359680175781, 1.1521186828613281, 0.5792173147201538]\n"
     ]
    }
   ],
   "source": [
    "#print average deocding times of the first ten codons\n",
    "print(sim.average_times[:10])"
   ]
  },
  {
   "cell_type": "markdown",
   "id": "9ea6d643-4bc1-44e8-919c-d030efad16fb",
   "metadata": {},
   "source": [
    "<p>The <b>average decoding time for the entire mRNA</b> can be accessed usign the 'get_elongation_duration' method of sim. This method returns a tuple of lists, with the first list containing the times it took individual codons to translate the sequence, and the first list containing the indices of the timesteps at which this ribosome terminated.</p>"
   ]
  },
  {
   "cell_type": "code",
   "execution_count": 6,
   "id": "bf57c370-004f-47a4-9c97-3855d28dee46",
   "metadata": {
    "tags": []
   },
   "outputs": [
    {
     "data": {
      "text/html": [
       "<div>\n",
       "<style scoped>\n",
       "    .dataframe tbody tr th:only-of-type {\n",
       "        vertical-align: middle;\n",
       "    }\n",
       "\n",
       "    .dataframe tbody tr th {\n",
       "        vertical-align: top;\n",
       "    }\n",
       "\n",
       "    .dataframe thead th {\n",
       "        text-align: right;\n",
       "    }\n",
       "</style>\n",
       "<table border=\"1\" class=\"dataframe\">\n",
       "  <thead>\n",
       "    <tr style=\"text-align: right;\">\n",
       "      <th></th>\n",
       "      <th>Elongation duration</th>\n",
       "      <th>Index</th>\n",
       "    </tr>\n",
       "  </thead>\n",
       "  <tbody>\n",
       "    <tr>\n",
       "      <th>0</th>\n",
       "      <td>29.724009</td>\n",
       "      <td>1</td>\n",
       "    </tr>\n",
       "    <tr>\n",
       "      <th>1</th>\n",
       "      <td>32.152184</td>\n",
       "      <td>13</td>\n",
       "    </tr>\n",
       "    <tr>\n",
       "      <th>2</th>\n",
       "      <td>31.624758</td>\n",
       "      <td>35</td>\n",
       "    </tr>\n",
       "    <tr>\n",
       "      <th>3</th>\n",
       "      <td>32.171276</td>\n",
       "      <td>65</td>\n",
       "    </tr>\n",
       "    <tr>\n",
       "      <th>4</th>\n",
       "      <td>36.445595</td>\n",
       "      <td>109</td>\n",
       "    </tr>\n",
       "    <tr>\n",
       "      <th>5</th>\n",
       "      <td>38.107761</td>\n",
       "      <td>173</td>\n",
       "    </tr>\n",
       "    <tr>\n",
       "      <th>6</th>\n",
       "      <td>39.941414</td>\n",
       "      <td>222</td>\n",
       "    </tr>\n",
       "    <tr>\n",
       "      <th>7</th>\n",
       "      <td>35.722572</td>\n",
       "      <td>287</td>\n",
       "    </tr>\n",
       "    <tr>\n",
       "      <th>8</th>\n",
       "      <td>38.269253</td>\n",
       "      <td>370</td>\n",
       "    </tr>\n",
       "    <tr>\n",
       "      <th>9</th>\n",
       "      <td>42.732876</td>\n",
       "      <td>402</td>\n",
       "    </tr>\n",
       "    <tr>\n",
       "      <th>10</th>\n",
       "      <td>45.755272</td>\n",
       "      <td>464</td>\n",
       "    </tr>\n",
       "    <tr>\n",
       "      <th>11</th>\n",
       "      <td>46.053684</td>\n",
       "      <td>512</td>\n",
       "    </tr>\n",
       "    <tr>\n",
       "      <th>12</th>\n",
       "      <td>45.148869</td>\n",
       "      <td>552</td>\n",
       "    </tr>\n",
       "  </tbody>\n",
       "</table>\n",
       "</div>"
      ],
      "text/plain": [
       "    Elongation duration  Index\n",
       "0             29.724009      1\n",
       "1             32.152184     13\n",
       "2             31.624758     35\n",
       "3             32.171276     65\n",
       "4             36.445595    109\n",
       "5             38.107761    173\n",
       "6             39.941414    222\n",
       "7             35.722572    287\n",
       "8             38.269253    370\n",
       "9             42.732876    402\n",
       "10            45.755272    464\n",
       "11            46.053684    512\n",
       "12            45.148869    552"
      ]
     },
     "execution_count": 6,
     "metadata": {},
     "output_type": "execute_result"
    }
   ],
   "source": [
    "durations = sim.get_elongation_duration()[0]\n",
    "indices = sim.get_elongation_duration()[1]\n",
    "pd.DataFrame({\"Elongation duration\": durations, \"Index\":indices})"
   ]
  },
  {
   "cell_type": "markdown",
   "id": "37fb16a5-0b5c-47c3-9f80-0cf29901a586",
   "metadata": {
    "tags": []
   },
   "source": [
    "<a name='Vars'></a>\n",
    "<h2>Variations</h2>\n",
    "<a href='#top'>Back to top</a>\n",
    "\n",
    "<p><b>Reading in sequences from fasta files</b>. As well as specifying sequences as strings, sequences can be read in from fasta formatted files. 'path_to_fasta_file' must be preplaced with a valid file path for this cell to eexecute without error.</p>"
   ]
  },
  {
   "cell_type": "code",
   "execution_count": 7,
   "id": "7115b835-1f07-4fa9-a926-d000f68781d5",
   "metadata": {},
   "outputs": [],
   "source": [
    "# for a fasta file with a single sequence:\n",
    "#sim.load_MRNA(path_to_fastaFile) \n",
    "#for a fasta file with multiple sequences:\n",
    "#sim.load_MRNA(path_to_fastaFile, \"sequence_name\")"
   ]
  },
  {
   "cell_type": "markdown",
   "id": "cf0bf217-927f-4d2b-8f1f-d13949e60627",
   "metadata": {},
   "source": [
    "<p><b>Setting different stop conditions</b>. Of the different methods for setting stop conditions, only one can be used at the same time - applying any of these methods overrides all previously applied methods.</p>"
   ]
  },
  {
   "cell_type": "code",
   "execution_count": 8,
   "id": "2adc16af-223c-4ead-ab23-04a2be07c2c6",
   "metadata": {},
   "outputs": [],
   "source": [
    "#simulate for 100 second (system time)\n",
    "sim.set_time_limit(100)\n",
    "#simulate until 500 ribosomes have translateed the mRNA\n",
    "sim.set_finished_ribosomes(500)\n",
    "#simulate until 5000 ribosome movements have ocurred\n",
    "sim.set_iteration_limit(5000)"
   ]
  },
  {
   "cell_type": "markdown",
   "id": "423b8c44-e8e1-43ba-baa7-84efedd2227e",
   "metadata": {},
   "source": [
    "<p><b>Changing rate parameters.</b> This is done similarly to the codon simulator, but the 'get_propensities' method of the sequence simulator retrieves one parameter set for each codon of the sequence. Propensities can be changed with the 'set_propensities' method, eitherfor all codons in parallel, or for a single codon only.</p>"
   ]
  },
  {
   "cell_type": "code",
   "execution_count": 9,
   "id": "f7a12e70-d2be-4628-a0fa-7e6233611631",
   "metadata": {},
   "outputs": [
    {
     "name": "stdout",
     "output_type": "stream",
     "text": [
      "{'WC1f': 1230.60498046875, 'WC1r': 85.0, 'WC2f': 190.0, 'WC2r': 0.23000000417232513, 'WC3f': 260.0, 'WC4f': 1000.0, 'WC5f': 1000.0, 'WC6f': 1000.0, 'WCdiss': 60.0, 'dec7f': 200.0, 'near1f': 5111.74365234375, 'near1r': 85.0, 'near2f': 190.0, 'near2r': 80.0, 'near3f': 0.4000000059604645, 'near4f': 1000.0, 'near5f': 1000.0, 'near6f': 60.0, 'neardiss': 1000.0, 'non1f': 20162.990234375, 'non1r': 100000.0, 'trans1f': 2040.0, 'trans1r': 140.0, 'trans2': 250.0, 'trans3': 350.0, 'trans4': 1000.0, 'trans5': 1000.0, 'trans6': 1000.0, 'trans7': 1000.0, 'trans8': 1000.0, 'trans9': 1000.0, 'wobble1f': 94.66191864013672, 'wobble1r': 85.0, 'wobble2f': 190.0, 'wobble2r': 1.0, 'wobble3f': 25.0, 'wobble4f': 1000.0, 'wobble5f': 1000.0, 'wobble6f': 6.400000095367432, 'wobblediss': 1.100000023841858}\n"
     ]
    }
   ],
   "source": [
    "#retrieve the inbuilt reaction rates (propensities)\n",
    "propensities = sim.get_propensities();\n",
    "#print the propensities of the sixth codon\n",
    "print(propensities[5])"
   ]
  },
  {
   "cell_type": "code",
   "execution_count": 10,
   "id": "d71db7f7-aab6-4e7d-a1bf-e9dd0b2d8571",
   "metadata": {},
   "outputs": [],
   "source": [
    "#set the 'WCdiss' reaction rate for the second codon to 1000\n",
    "propensities[1]['WCdiss'] = 5\n",
    "sim.set_propensities(propensities)\n",
    "\n",
    "# OR #\n",
    "\n",
    "#set the 'WCdiss' reaction rates for all codons to 1000\n",
    "for propensity in propensities:\n",
    "    propensity['WCdiss'] = 5\n",
    "#set the new propensities in the simulator\n",
    "sim.set_propensities(propensities)"
   ]
  },
  {
   "cell_type": "markdown",
   "id": "b6a13ea6-5055-442a-8608-4e4423062cfb",
   "metadata": {},
   "source": [
    "<p><b>Controlling the starting ribosome population</b>. If not further specifieed, the simulation startes with an empty sequence in which case it takes time for the system to reach a steady state. Parameters like ribosome collisions will be sensitive to this. The transition to the steady state can be accelerated by pre-seeding the sequence with ribosomes, either with the deterministic ribosome density, or at positions explicitly specified by the user.</p>"
   ]
  },
  {
   "cell_type": "code",
   "execution_count": 11,
   "id": "67c8486d-35c4-4f2f-9455-b8e88929390e",
   "metadata": {},
   "outputs": [],
   "source": [
    "# prepolulate to steady state\n",
    "sim.set_prepopulate(True)\n",
    "\n",
    "# OR #\n",
    "\n",
    "# set ribosomes to specified initial positions\n",
    "sim.set_ribosome_positions([1,11, 21])"
   ]
  },
  {
   "cell_type": "markdown",
   "id": "a9ebe5b0-32aa-4ab7-a09c-c16504ec7f36",
   "metadata": {},
   "source": [
    "<p><b>Model all non-cognate reactions.</b> Ribosomal reactions with non-cognates make up the majority of reactions during a translation cycle, but because non-cognate contacts are very fleeting their contribution to ribosomal step times is negligible. Disregarding non-cognate reactions 9the default) accelerates computation time without notably affecting results. Modelling of non-cognates can be reinstated with the 'set_nonCognate' method of the simulator.</p>"
   ]
  },
  {
   "cell_type": "code",
   "execution_count": 12,
   "id": "6e1e37e4-332a-4fbc-adc3-beb56a7359e9",
   "metadata": {},
   "outputs": [],
   "source": [
    "# enable the non-cognate pathway. Disabled by default\n",
    "sim.set_nonCognate(True) "
   ]
  },
  {
   "cell_type": "markdown",
   "id": "226baf9e-d9bc-403a-b6bd-99329a0b1de7",
   "metadata": {},
   "source": [
    "<p><b>Record ribosome states in detail</b>. By default, the simulation only records when ribosomes change position. It is also possible to record all internal state changes by calling the 'log_codon_states' method of sim with the True parameter.</p>"
   ]
  },
  {
   "cell_type": "code",
   "execution_count": 13,
   "id": "3557aa5b-92d5-4ccd-8153-b602ea7416f0",
   "metadata": {},
   "outputs": [],
   "source": [
    "sim.set_log_codon_states(True) #if sim is run now, internal state changes of all ribosomes are recorded \n",
    "                                #(this greatly increases the amount of data generated).\n",
    "sim.set_log_codon_states(False) # sets the simulator back to the default. "
   ]
  },
  {
   "cell_type": "code",
   "execution_count": null,
   "id": "54488bf2-af24-4c78-bb85-1657ee07f10c",
   "metadata": {},
   "outputs": [],
   "source": []
  }
 ],
 "metadata": {
  "kernelspec": {
   "display_name": "Python 3 (ipykernel)",
   "language": "python",
   "name": "python3"
  },
  "language_info": {
   "codemirror_mode": {
    "name": "ipython",
    "version": 3
   },
   "file_extension": ".py",
   "mimetype": "text/x-python",
   "name": "python",
   "nbconvert_exporter": "python",
   "pygments_lexer": "ipython3",
   "version": "3.11.7"
  }
 },
 "nbformat": 4,
 "nbformat_minor": 5
}
